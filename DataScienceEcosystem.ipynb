{
 "cells": [
  {
   "cell_type": "code",
   "execution_count": 1,
   "id": "f21d5aa4-b927-4217-a1b4-31c73a46c580",
   "metadata": {
    "tags": []
   },
   "outputs": [],
   "source": [
    "compiled_languages = [\"C\", \"C++\", \"Rust\", \"Go\"]"
   ]
  },
  {
   "cell_type": "code",
   "execution_count": 2,
   "id": "83b43744-68d2-4a3d-a355-2e45d5d73e36",
   "metadata": {
    "tags": []
   },
   "outputs": [
    {
     "name": "stdout",
     "output_type": "stream",
     "text": [
      "['C', 'C++', 'Rust', 'Go']\n"
     ]
    }
   ],
   "source": [
    "print(compiled_languages)"
   ]
  },
  {
   "cell_type": "code",
   "execution_count": 3,
   "id": "0d8f826a-6c6e-426c-9d28-a64d5aabf108",
   "metadata": {
    "tags": []
   },
   "outputs": [],
   "source": [
    "data_manipulation_libraries = [\"pandas\", \"numpy\", \"dask\", \"polars\"]"
   ]
  },
  {
   "cell_type": "code",
   "execution_count": 4,
   "id": "06242ea4-e922-4be6-ba71-b1f0f7a588a3",
   "metadata": {
    "tags": []
   },
   "outputs": [
    {
     "name": "stdout",
     "output_type": "stream",
     "text": [
      "['pandas', 'numpy', 'dask', 'polars']\n"
     ]
    }
   ],
   "source": [
    "print(data_manipulation_libraries)"
   ]
  },
  {
   "cell_type": "code",
   "execution_count": 11,
   "id": "1b3c689f-7edc-43f1-8dc8-964022c31926",
   "metadata": {
    "tags": []
   },
   "outputs": [
    {
     "data": {
      "text/markdown": [
       "\n",
       "## Author\n",
       "\n",
       "Hayotjon\n"
      ],
      "text/plain": [
       "<IPython.core.display.Markdown object>"
      ]
     },
     "metadata": {},
     "output_type": "display_data"
    }
   ],
   "source": [
    "from IPython.display import display, Markdown\n",
    "\n",
    "# Define author's name\n",
    "author_name = \"Hayotjon\"\n",
    "\n",
    "# Construct Markdown content\n",
    "markdown_content = \"\"\"\n",
    "## Author\n",
    "\n",
    "{}\n",
    "\"\"\".format(author_name)\n",
    "\n",
    "# Display markdown cell\n",
    "display(Markdown(markdown_content))\n"
   ]
  },
  {
   "cell_type": "code",
   "execution_count": null,
   "id": "e6f868a1-1afd-4b5f-b343-ac400b711f23",
   "metadata": {},
   "outputs": [],
   "source": []
  }
 ],
 "metadata": {
  "kernelspec": {
   "display_name": "Python",
   "language": "python",
   "name": "conda-env-python-py"
  },
  "language_info": {
   "codemirror_mode": {
    "name": "ipython",
    "version": 3
   },
   "file_extension": ".py",
   "mimetype": "text/x-python",
   "name": "python",
   "nbconvert_exporter": "python",
   "pygments_lexer": "ipython3",
   "version": "3.7.12"
  }
 },
 "nbformat": 4,
 "nbformat_minor": 5
}
